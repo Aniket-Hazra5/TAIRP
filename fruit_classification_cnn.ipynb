{
  "metadata": {
    "kernelspec": {
      "language": "python",
      "display_name": "Python 3",
      "name": "python3"
    },
    "language_info": {
      "name": "python",
      "version": "3.10.10",
      "mimetype": "text/x-python",
      "codemirror_mode": {
        "name": "ipython",
        "version": 3
      },
      "pygments_lexer": "ipython3",
      "nbconvert_exporter": "python",
      "file_extension": ".py"
    },
    "colab": {
      "provenance": []
    }
  },
  "nbformat_minor": 0,
  "nbformat": 4,
  "cells": [
    {
      "cell_type": "markdown",
      "source": [
        "***Importing all the Necessary libraries***"
      ],
      "metadata": {
        "id": "S7ouq8s-Ztsx"
      }
    },
    {
      "cell_type": "code",
      "source": [
        "import numpy as np\n",
        "import pandas as pd\n",
        "import matplotlib.pyplot as plt\n",
        "import seaborn as sns\n",
        "import tensorflow as tf\n",
        "import os\n",
        "import matplotlib.image as mpimg\n",
        "import random\n",
        "from tensorflow.keras import layers\n",
        "from tensorflow.keras.preprocessing.image import ImageDataGenerator\n",
        "from sklearn.model_selection import train_test_split\n",
        "from tensorflow.keras.utils import load_img, img_to_array\n",
        "import pathlib\n",
        "import numpy as np"
      ],
      "metadata": {
        "papermill": {
          "duration": 8.438843,
          "end_time": "2022-09-16T22:09:16.603738",
          "exception": false,
          "start_time": "2022-09-16T22:09:08.164895",
          "status": "completed"
        },
        "tags": [],
        "execution": {
          "iopub.status.busy": "2023-09-05T08:08:55.705439Z",
          "iopub.execute_input": "2023-09-05T08:08:55.706796Z",
          "iopub.status.idle": "2023-09-05T08:08:55.714973Z",
          "shell.execute_reply.started": "2023-09-05T08:08:55.706742Z",
          "shell.execute_reply": "2023-09-05T08:08:55.713997Z"
        },
        "trusted": true,
        "id": "eUWnOUqbZts4"
      },
      "execution_count": null,
      "outputs": []
    },
    {
      "cell_type": "markdown",
      "source": [
        "***Definning the dataset path***\n",
        "* *os.walk() function: to traverse a directory tree starting from the path \"../input/fruit-recognition\".*\n",
        "* *The current directory path is stored in the variable dirpath, the list of subdirectory names is stored in the variable dirnames, and the list of filenames is stored in the variable filenames.*"
      ],
      "metadata": {
        "papermill": {
          "duration": 0.011808,
          "end_time": "2022-09-16T22:09:16.628392",
          "exception": false,
          "start_time": "2022-09-16T22:09:16.616584",
          "status": "completed"
        },
        "tags": [],
        "id": "u9BnGnATZts7"
      }
    },
    {
      "cell_type": "code",
      "source": [
        "for dirpath, dirnames, filenames in os.walk(\"../input/fruit-recognition\"):\n",
        "    print(f\"There are {len(dirnames)} directories and {len(filenames)} images in '{dirpath}'.\")"
      ],
      "metadata": {
        "papermill": {
          "duration": 15.475357,
          "end_time": "2022-09-16T22:09:32.115732",
          "exception": false,
          "start_time": "2022-09-16T22:09:16.640375",
          "status": "completed"
        },
        "tags": [],
        "execution": {
          "iopub.status.busy": "2023-09-05T08:08:55.717307Z",
          "iopub.execute_input": "2023-09-05T08:08:55.717906Z",
          "iopub.status.idle": "2023-09-05T08:09:03.813740Z",
          "shell.execute_reply.started": "2023-09-05T08:08:55.717869Z",
          "shell.execute_reply": "2023-09-05T08:09:03.812435Z"
        },
        "trusted": true,
        "id": "ygVRttc_Zts9"
      },
      "execution_count": null,
      "outputs": []
    },
    {
      "cell_type": "markdown",
      "source": [
        "***Setting path for TRAIN AND TEST***"
      ],
      "metadata": {
        "papermill": {
          "duration": 0.013224,
          "end_time": "2022-09-16T22:09:32.14353",
          "exception": false,
          "start_time": "2022-09-16T22:09:32.130306",
          "status": "completed"
        },
        "tags": [],
        "id": "D-I9KT0VZttA"
      }
    },
    {
      "cell_type": "code",
      "source": [
        "train_path = \"../input/fruit-recognition/train/train/\"\n",
        "test_path = \"../input/fruit-recognition/test/test/\""
      ],
      "metadata": {
        "papermill": {
          "duration": 0.021547,
          "end_time": "2022-09-16T22:09:32.178666",
          "exception": false,
          "start_time": "2022-09-16T22:09:32.157119",
          "status": "completed"
        },
        "tags": [],
        "execution": {
          "iopub.status.busy": "2023-09-05T08:09:03.815695Z",
          "iopub.execute_input": "2023-09-05T08:09:03.816494Z",
          "iopub.status.idle": "2023-09-05T08:09:03.823057Z",
          "shell.execute_reply.started": "2023-09-05T08:09:03.816451Z",
          "shell.execute_reply": "2023-09-05T08:09:03.821273Z"
        },
        "trusted": true,
        "id": "5lZQoXlUZttB"
      },
      "execution_count": null,
      "outputs": []
    },
    {
      "cell_type": "markdown",
      "source": [
        "***Getting the Different class names from the directory***"
      ],
      "metadata": {
        "id": "pl4s8v8hZttE"
      }
    },
    {
      "cell_type": "code",
      "source": [
        "data_dir = pathlib.Path(train_path)\n",
        "class_names = np.array(sorted([item.name for item in data_dir.glob('*')]))\n",
        "print(class_names)"
      ],
      "metadata": {
        "papermill": {
          "duration": 0.025513,
          "end_time": "2022-09-16T22:09:32.218209",
          "exception": false,
          "start_time": "2022-09-16T22:09:32.192696",
          "status": "completed"
        },
        "tags": [],
        "execution": {
          "iopub.status.busy": "2023-09-05T08:09:03.824798Z",
          "iopub.execute_input": "2023-09-05T08:09:03.825288Z",
          "iopub.status.idle": "2023-09-05T08:09:03.847616Z",
          "shell.execute_reply.started": "2023-09-05T08:09:03.825245Z",
          "shell.execute_reply": "2023-09-05T08:09:03.845785Z"
        },
        "trusted": true,
        "colab": {
          "base_uri": "https://localhost:8080/"
        },
        "id": "XnmP5HijZttG",
        "outputId": "c93bbeb9-b1db-4875-98c4-9a4a32f0978b"
      },
      "execution_count": null,
      "outputs": [
        {
          "output_type": "stream",
          "name": "stdout",
          "text": [
            "[]\n"
          ]
        }
      ]
    },
    {
      "cell_type": "markdown",
      "source": [
        "***Plot a grid of images from a training dataset***"
      ],
      "metadata": {
        "id": "Pakf0jkpZttJ"
      }
    },
    {
      "cell_type": "code",
      "source": [
        "def view_random_image(target_dir, target_class):\n",
        "  # Setup target directory (we'll view images from here)\n",
        "  target_folder = target_dir+target_class\n",
        "\n",
        "  # Get a random image path\n",
        "  random_image = random.sample(os.listdir(target_folder), 100)\n",
        "\n",
        "  # Read in the image and plot it using matplotlib\n",
        "  img = mpimg.imread(target_folder + \"/\" + random_image[0])\n",
        "  plt.imshow(img)\n",
        "  plt.title(target_class)\n",
        "  plt.axis(\"off\");\n",
        "\n",
        "  return img"
      ],
      "metadata": {
        "papermill": {
          "duration": 0.024298,
          "end_time": "2022-09-16T22:09:32.256447",
          "exception": false,
          "start_time": "2022-09-16T22:09:32.232149",
          "status": "completed"
        },
        "tags": [],
        "execution": {
          "iopub.status.busy": "2023-09-05T08:09:03.852116Z",
          "iopub.execute_input": "2023-09-05T08:09:03.852879Z",
          "iopub.status.idle": "2023-09-05T08:09:03.859903Z",
          "shell.execute_reply.started": "2023-09-05T08:09:03.852839Z",
          "shell.execute_reply": "2023-09-05T08:09:03.858987Z"
        },
        "trusted": true,
        "id": "mGOQ_3W6ZttK"
      },
      "execution_count": null,
      "outputs": []
    },
    {
      "cell_type": "code",
      "source": [
        "plt.figure(figsize = (15,15))\n",
        "# View a random image from the training dataset for all classes\n",
        "for i in range(33):\n",
        "    plt.subplot(5,8,i+1)\n",
        "    img = view_random_image(target_dir=train_path,\n",
        "                        target_class=class_names[i])"
      ],
      "metadata": {
        "papermill": {
          "duration": 1.613055,
          "end_time": "2022-09-16T22:09:33.8832",
          "exception": false,
          "start_time": "2022-09-16T22:09:32.270145",
          "status": "completed"
        },
        "tags": [],
        "execution": {
          "iopub.status.busy": "2023-09-05T08:09:03.861973Z",
          "iopub.execute_input": "2023-09-05T08:09:03.862710Z",
          "iopub.status.idle": "2023-09-05T08:09:07.200285Z",
          "shell.execute_reply.started": "2023-09-05T08:09:03.862667Z",
          "shell.execute_reply": "2023-09-05T08:09:07.199150Z"
        },
        "trusted": true,
        "colab": {
          "base_uri": "https://localhost:8080/",
          "height": 458
        },
        "id": "rdnGN5caZttN",
        "outputId": "92481faa-2fed-447b-cc46-a3285f037a04"
      },
      "execution_count": null,
      "outputs": [
        {
          "output_type": "error",
          "ename": "IndexError",
          "evalue": "ignored",
          "traceback": [
            "\u001b[0;31m---------------------------------------------------------------------------\u001b[0m",
            "\u001b[0;31mIndexError\u001b[0m                                Traceback (most recent call last)",
            "\u001b[0;32m<ipython-input-6-68a2bcd746a8>\u001b[0m in \u001b[0;36m<cell line: 3>\u001b[0;34m()\u001b[0m\n\u001b[1;32m      4\u001b[0m     \u001b[0mplt\u001b[0m\u001b[0;34m.\u001b[0m\u001b[0msubplot\u001b[0m\u001b[0;34m(\u001b[0m\u001b[0;36m5\u001b[0m\u001b[0;34m,\u001b[0m\u001b[0;36m8\u001b[0m\u001b[0;34m,\u001b[0m\u001b[0mi\u001b[0m\u001b[0;34m+\u001b[0m\u001b[0;36m1\u001b[0m\u001b[0;34m)\u001b[0m\u001b[0;34m\u001b[0m\u001b[0;34m\u001b[0m\u001b[0m\n\u001b[1;32m      5\u001b[0m     img = view_random_image(target_dir=train_path,\n\u001b[0;32m----> 6\u001b[0;31m                         target_class=class_names[i])\n\u001b[0m",
            "\u001b[0;31mIndexError\u001b[0m: index 0 is out of bounds for axis 0 with size 0"
          ]
        },
        {
          "output_type": "display_data",
          "data": {
            "text/plain": [
              "<Figure size 1500x1500 with 1 Axes>"
            ],
            "image/png": "[encoded data removed]"
          },
          "metadata": {}
        }
      ]
    },
    {
      "cell_type": "code",
      "source": [
        "from google.colab import drive\n",
        "drive.mount('/content/drive')"
      ],
      "metadata": {
        "id": "zDXz5mxzadVL"
      },
      "execution_count": null,
      "outputs": []
    },
    {
      "cell_type": "markdown",
      "source": [
        "# New Section"
      ],
      "metadata": {
        "id": "gYEaa4H6ag94"
      }
    },
    {
      "cell_type": "markdown",
      "source": [
        "***Preparing VALIDATION Data***\n",
        "\n",
        "*Collects Information about the training dataset by traversing the directory tree using os.walk() and populating a dictionary called train_val_data.*"
      ],
      "metadata": {
        "papermill": {
          "duration": 0.022803,
          "end_time": "2022-09-16T22:09:33.928977",
          "exception": false,
          "start_time": "2022-09-16T22:09:33.906174",
          "status": "completed"
        },
        "tags": [],
        "id": "A6MHShFXZttR"
      }
    },
    {
      "cell_type": "code",
      "source": [
        "train_val_data = {'path' : [],\n",
        "       'filename': [],\n",
        "       'label': []}\n",
        "for dirpath, dirnames, filenames in os.walk(train_path):\n",
        "    for f in filenames:\n",
        "        train_val_data['path'].append(dirpath)\n",
        "        train_val_data['filename'].append(f)\n",
        "        train_val_data['label'].append(f.split('_')[0])"
      ],
      "metadata": {
        "papermill": {
          "duration": 0.111993,
          "end_time": "2022-09-16T22:09:34.063641",
          "exception": false,
          "start_time": "2022-09-16T22:09:33.951648",
          "status": "completed"
        },
        "tags": [],
        "execution": {
          "iopub.status.busy": "2023-09-05T08:09:07.201709Z",
          "iopub.execute_input": "2023-09-05T08:09:07.202262Z",
          "iopub.status.idle": "2023-09-05T08:09:07.300557Z",
          "shell.execute_reply.started": "2023-09-05T08:09:07.202231Z",
          "shell.execute_reply": "2023-09-05T08:09:07.299347Z"
        },
        "trusted": true,
        "id": "_tXMzog6ZttV"
      },
      "execution_count": null,
      "outputs": []
    },
    {
      "cell_type": "code",
      "source": [
        "train_val_data_df = pd.DataFrame(train_val_data)\n",
        "train_val_data_df.head()"
      ],
      "metadata": {
        "papermill": {
          "duration": 0.048876,
          "end_time": "2022-09-16T22:09:34.134618",
          "exception": false,
          "start_time": "2022-09-16T22:09:34.085742",
          "status": "completed"
        },
        "tags": [],
        "execution": {
          "iopub.status.busy": "2023-09-05T08:09:07.302412Z",
          "iopub.execute_input": "2023-09-05T08:09:07.303235Z",
          "iopub.status.idle": "2023-09-05T08:09:07.342248Z",
          "shell.execute_reply.started": "2023-09-05T08:09:07.303192Z",
          "shell.execute_reply": "2023-09-05T08:09:07.341257Z"
        },
        "trusted": true,
        "id": "4MoiR6mpZttY"
      },
      "execution_count": null,
      "outputs": []
    },
    {
      "cell_type": "markdown",
      "source": [
        "***Prepare the Testing Data***"
      ],
      "metadata": {
        "id": "xlKmd9kRZttZ"
      }
    },
    {
      "cell_type": "code",
      "source": [
        "#Read test data and create a dataframe\n",
        "test_data = {'path' : [],\n",
        "       'filename': []}\n",
        "for dirpath, dirnames, filenames in os.walk(test_path):\n",
        "    for f in filenames:\n",
        "        test_data['path'].append(dirpath)\n",
        "        test_data['filename'].append(f)"
      ],
      "metadata": {
        "papermill": {
          "duration": 1.388321,
          "end_time": "2022-09-16T22:09:35.546434",
          "exception": false,
          "start_time": "2022-09-16T22:09:34.158113",
          "status": "completed"
        },
        "tags": [],
        "execution": {
          "iopub.status.busy": "2023-09-05T08:09:07.343322Z",
          "iopub.execute_input": "2023-09-05T08:09:07.343874Z",
          "iopub.status.idle": "2023-09-05T08:09:08.726354Z",
          "shell.execute_reply.started": "2023-09-05T08:09:07.343843Z",
          "shell.execute_reply": "2023-09-05T08:09:08.724987Z"
        },
        "trusted": true,
        "id": "W-9RtoegZtta"
      },
      "execution_count": null,
      "outputs": []
    },
    {
      "cell_type": "code",
      "source": [
        "test_data_df = pd.DataFrame(test_data)\n",
        "test_data_df.head()"
      ],
      "metadata": {
        "papermill": {
          "duration": 0.037982,
          "end_time": "2022-09-16T22:09:35.609144",
          "exception": false,
          "start_time": "2022-09-16T22:09:35.571162",
          "status": "completed"
        },
        "tags": [],
        "execution": {
          "iopub.status.busy": "2023-09-05T08:09:08.728226Z",
          "iopub.execute_input": "2023-09-05T08:09:08.729046Z",
          "iopub.status.idle": "2023-09-05T08:09:08.744481Z",
          "shell.execute_reply.started": "2023-09-05T08:09:08.729000Z",
          "shell.execute_reply": "2023-09-05T08:09:08.743195Z"
        },
        "trusted": true,
        "id": "v8jX0npDZttb"
      },
      "execution_count": null,
      "outputs": []
    },
    {
      "cell_type": "markdown",
      "source": [
        "***Read Images and create numpy data array***"
      ],
      "metadata": {
        "papermill": {
          "duration": 0.023999,
          "end_time": "2022-09-16T22:09:36.39505",
          "exception": false,
          "start_time": "2022-09-16T22:09:36.371051",
          "status": "completed"
        },
        "tags": [],
        "id": "NUlxTEr_Zttd"
      }
    },
    {
      "cell_type": "code",
      "source": [
        "\n",
        "images = []\n",
        "label = []\n",
        "\n",
        "for _, d in train_val_data_df.iterrows():\n",
        "    img = load_img(os.path.join(d['path'],d['filename']))\n",
        "    images.append(img_to_array(img))\n",
        "    label.append(d['label'])"
      ],
      "metadata": {
        "papermill": {
          "duration": 120.489023,
          "end_time": "2022-09-16T22:11:36.909052",
          "exception": false,
          "start_time": "2022-09-16T22:09:36.420029",
          "status": "completed"
        },
        "tags": [],
        "execution": {
          "iopub.status.busy": "2023-09-05T08:09:08.746797Z",
          "iopub.execute_input": "2023-09-05T08:09:08.747347Z",
          "iopub.status.idle": "2023-09-05T08:10:21.136835Z",
          "shell.execute_reply.started": "2023-09-05T08:09:08.747290Z",
          "shell.execute_reply": "2023-09-05T08:10:21.135532Z"
        },
        "trusted": true,
        "id": "oSy2VI34Ztte"
      },
      "execution_count": null,
      "outputs": []
    },
    {
      "cell_type": "code",
      "source": [
        "images = np.array(images)\n",
        "labels = np.array(label)\n",
        "print(f\"Complete data images shape: {images.shape} and label shape: {labels.shape}\")"
      ],
      "metadata": {
        "papermill": {
          "duration": 3.333301,
          "end_time": "2022-09-16T22:11:40.268384",
          "exception": false,
          "start_time": "2022-09-16T22:11:36.935083",
          "status": "completed"
        },
        "tags": [],
        "execution": {
          "iopub.status.busy": "2023-09-05T08:10:21.138076Z",
          "iopub.execute_input": "2023-09-05T08:10:21.138406Z",
          "iopub.status.idle": "2023-09-05T08:10:22.165184Z",
          "shell.execute_reply.started": "2023-09-05T08:10:21.138378Z",
          "shell.execute_reply": "2023-09-05T08:10:22.163929Z"
        },
        "trusted": true,
        "id": "RFsYWp8HZttg"
      },
      "execution_count": null,
      "outputs": []
    },
    {
      "cell_type": "code",
      "source": [
        "test_images = []\n",
        "\n",
        "for _, d in test_data_df.iterrows():\n",
        "    img = load_img(os.path.join(d['path'],d['filename']))\n",
        "    test_images.append(img_to_array(img))\n",
        "\n",
        "test_images = np.array(test_images)\n",
        "print(f\"Test images shape: {test_images.shape} \")"
      ],
      "metadata": {
        "papermill": {
          "duration": 50.823223,
          "end_time": "2022-09-16T22:12:31.115719",
          "exception": false,
          "start_time": "2022-09-16T22:11:40.292496",
          "status": "completed"
        },
        "tags": [],
        "execution": {
          "iopub.status.busy": "2023-09-05T08:10:22.166625Z",
          "iopub.execute_input": "2023-09-05T08:10:22.167063Z",
          "iopub.status.idle": "2023-09-05T08:10:46.557551Z",
          "shell.execute_reply.started": "2023-09-05T08:10:22.167024Z",
          "shell.execute_reply": "2023-09-05T08:10:46.556243Z"
        },
        "trusted": true,
        "id": "V4g55VmLZttj"
      },
      "execution_count": null,
      "outputs": []
    },
    {
      "cell_type": "markdown",
      "source": [
        "***Label Encoding***"
      ],
      "metadata": {
        "papermill": {
          "duration": 0.025456,
          "end_time": "2022-09-16T22:12:31.165727",
          "exception": false,
          "start_time": "2022-09-16T22:12:31.140271",
          "status": "completed"
        },
        "tags": [],
        "id": "nTwfocn5Zttk"
      }
    },
    {
      "cell_type": "code",
      "source": [
        "class_indices = dict(zip(class_names, range(len(class_names))))\n",
        "\n",
        "labels_encoded = list(map(class_indices.get, labels))\n",
        "\n",
        "#Convert to categorical data using tensorflow\n",
        "#labels to One-hot encoded\n",
        "label_categorical = tf.keras.utils.to_categorical(labels_encoded, num_classes=len(class_names), dtype='uint8')\n"
      ],
      "metadata": {
        "papermill": {
          "duration": 0.042329,
          "end_time": "2022-09-16T22:12:31.232274",
          "exception": false,
          "start_time": "2022-09-16T22:12:31.189945",
          "status": "completed"
        },
        "tags": [],
        "execution": {
          "iopub.status.busy": "2023-09-05T08:10:46.563818Z",
          "iopub.execute_input": "2023-09-05T08:10:46.564237Z",
          "iopub.status.idle": "2023-09-05T08:10:46.584278Z",
          "shell.execute_reply.started": "2023-09-05T08:10:46.564206Z",
          "shell.execute_reply": "2023-09-05T08:10:46.582976Z"
        },
        "trusted": true,
        "id": "CPvwD1YzZttk"
      },
      "execution_count": null,
      "outputs": []
    },
    {
      "cell_type": "markdown",
      "source": [
        "***Train And Validation split***"
      ],
      "metadata": {
        "papermill": {
          "duration": 0.024002,
          "end_time": "2022-09-16T22:12:31.280833",
          "exception": false,
          "start_time": "2022-09-16T22:12:31.256831",
          "status": "completed"
        },
        "tags": [],
        "id": "hD1wJ2-vZttl"
      }
    },
    {
      "cell_type": "code",
      "source": [
        "train_im, valid_im, train_lab, valid_lab = train_test_split(images, label_categorical, test_size=0.20,\n",
        "                                                            stratify=label_categorical,\n",
        "                                                            random_state=40, shuffle = True)"
      ],
      "metadata": {
        "papermill": {
          "duration": 1.81415,
          "end_time": "2022-09-16T22:12:33.119695",
          "exception": false,
          "start_time": "2022-09-16T22:12:31.305545",
          "status": "completed"
        },
        "tags": [],
        "execution": {
          "iopub.status.busy": "2023-09-05T08:10:46.585988Z",
          "iopub.execute_input": "2023-09-05T08:10:46.586594Z",
          "iopub.status.idle": "2023-09-05T08:10:48.465043Z",
          "shell.execute_reply.started": "2023-09-05T08:10:46.586553Z",
          "shell.execute_reply": "2023-09-05T08:10:48.463900Z"
        },
        "trusted": true,
        "id": "4431yveiZttm"
      },
      "execution_count": null,
      "outputs": []
    },
    {
      "cell_type": "code",
      "source": [
        "print (\"train data shape after the split: \", train_im.shape)\n",
        "print ('new validation data shape: ', valid_im.shape)\n",
        "print (\"validation labels shape: \", valid_lab.shape)"
      ],
      "metadata": {
        "papermill": {
          "duration": 0.036597,
          "end_time": "2022-09-16T22:12:33.182459",
          "exception": false,
          "start_time": "2022-09-16T22:12:33.145862",
          "status": "completed"
        },
        "tags": [],
        "execution": {
          "iopub.status.busy": "2023-09-05T08:10:48.466498Z",
          "iopub.execute_input": "2023-09-05T08:10:48.466844Z",
          "iopub.status.idle": "2023-09-05T08:10:48.472545Z",
          "shell.execute_reply.started": "2023-09-05T08:10:48.466815Z",
          "shell.execute_reply": "2023-09-05T08:10:48.471494Z"
        },
        "trusted": true,
        "id": "8GNxnoPYZttm"
      },
      "execution_count": null,
      "outputs": []
    },
    {
      "cell_type": "code",
      "source": [
        "print ('train im and label types: ', type(train_im), type(train_lab))\n",
        "\n",
        "training_data = tf.data.Dataset.from_tensor_slices((train_im, train_lab))\n",
        "validation_data = tf.data.Dataset.from_tensor_slices((valid_im, valid_lab))\n",
        "test_data = tf.data.Dataset.from_tensor_slices(test_images)\n",
        "\n",
        "print ('check types; ', type(training_data), type(validation_data), type(test_data))"
      ],
      "metadata": {
        "papermill": {
          "duration": 2.188143,
          "end_time": "2022-09-16T22:12:35.397349",
          "exception": false,
          "start_time": "2022-09-16T22:12:33.209206",
          "status": "completed"
        },
        "tags": [],
        "execution": {
          "iopub.status.busy": "2023-09-05T08:10:48.474207Z",
          "iopub.execute_input": "2023-09-05T08:10:48.474789Z",
          "iopub.status.idle": "2023-09-05T08:10:51.373233Z",
          "shell.execute_reply.started": "2023-09-05T08:10:48.474759Z",
          "shell.execute_reply": "2023-09-05T08:10:51.371960Z"
        },
        "trusted": true,
        "id": "zAhDCJDNZttn"
      },
      "execution_count": null,
      "outputs": []
    },
    {
      "cell_type": "code",
      "source": [
        "### check using element_spec\n",
        "\n",
        "print (training_data.element_spec)\n",
        "print (validation_data.element_spec)\n",
        "\n",
        "### as expected, tensors of image and original label shape\n",
        "\n",
        "\n",
        "### create an iterator and turn it into numpy array\n",
        "train_iter = iter(training_data)\n",
        "print(next(train_iter)[0].numpy(), '\\n', next(train_iter)[1].numpy(), np.argmax(next(train_iter)[1].numpy()))"
      ],
      "metadata": {
        "papermill": {
          "duration": 2.07673,
          "end_time": "2022-09-16T22:12:37.501838",
          "exception": false,
          "start_time": "2022-09-16T22:12:35.425108",
          "status": "completed"
        },
        "tags": [],
        "execution": {
          "iopub.status.busy": "2023-09-05T08:10:51.374608Z",
          "iopub.execute_input": "2023-09-05T08:10:51.374940Z",
          "iopub.status.idle": "2023-09-05T08:10:53.553978Z",
          "shell.execute_reply.started": "2023-09-05T08:10:51.374912Z",
          "shell.execute_reply": "2023-09-05T08:10:53.553057Z"
        },
        "trusted": true,
        "id": "tOILqrnBZtt3"
      },
      "execution_count": null,
      "outputs": []
    },
    {
      "cell_type": "code",
      "source": [
        "train_iter_im, train_iter_label = next(iter(training_data))\n",
        "print (train_iter_im.numpy().shape, train_iter_label.numpy().shape)"
      ],
      "metadata": {
        "papermill": {
          "duration": 0.689466,
          "end_time": "2022-09-16T22:12:38.21767",
          "exception": false,
          "start_time": "2022-09-16T22:12:37.528204",
          "status": "completed"
        },
        "tags": [],
        "execution": {
          "iopub.status.busy": "2023-09-05T08:10:53.555080Z",
          "iopub.execute_input": "2023-09-05T08:10:53.555658Z",
          "iopub.status.idle": "2023-09-05T08:10:53.569284Z",
          "shell.execute_reply.started": "2023-09-05T08:10:53.555625Z",
          "shell.execute_reply": "2023-09-05T08:10:53.568113Z"
        },
        "trusted": true,
        "id": "MOMhoKW-Ztt5"
      },
      "execution_count": null,
      "outputs": []
    },
    {
      "cell_type": "code",
      "source": [
        "train_iter_im1, train_iter_label1 = next(training_data.as_numpy_iterator())\n",
        "print (train_iter_im1.shape, train_iter_label1.shape)"
      ],
      "metadata": {
        "papermill": {
          "duration": 0.716612,
          "end_time": "2022-09-16T22:12:38.959121",
          "exception": false,
          "start_time": "2022-09-16T22:12:38.242509",
          "status": "completed"
        },
        "tags": [],
        "execution": {
          "iopub.status.busy": "2023-09-05T08:10:53.570900Z",
          "iopub.execute_input": "2023-09-05T08:10:53.571356Z",
          "iopub.status.idle": "2023-09-05T08:10:53.581444Z",
          "shell.execute_reply.started": "2023-09-05T08:10:53.571319Z",
          "shell.execute_reply": "2023-09-05T08:10:53.580466Z"
        },
        "trusted": true,
        "id": "Y_hBlGmCZtt6"
      },
      "execution_count": null,
      "outputs": []
    },
    {
      "cell_type": "code",
      "source": [
        "check_list = list(training_data.as_numpy_iterator())\n",
        "print (len(check_list), check_list[1])"
      ],
      "metadata": {
        "papermill": {
          "duration": 2.45875,
          "end_time": "2022-09-16T22:12:41.444661",
          "exception": false,
          "start_time": "2022-09-16T22:12:38.985911",
          "status": "completed"
        },
        "tags": [],
        "execution": {
          "iopub.status.busy": "2023-09-05T08:10:53.585196Z",
          "iopub.execute_input": "2023-09-05T08:10:53.587334Z",
          "iopub.status.idle": "2023-09-05T08:10:57.218580Z",
          "shell.execute_reply.started": "2023-09-05T08:10:53.587300Z",
          "shell.execute_reply": "2023-09-05T08:10:57.217423Z"
        },
        "trusted": true,
        "id": "uvWa7EQxZtt7"
      },
      "execution_count": null,
      "outputs": []
    },
    {
      "cell_type": "code",
      "source": [
        "\n",
        "fig = plt.figure(figsize=(10,10))\n",
        "for i in range(12):\n",
        "    plt.subplot(4,3,i+1)\n",
        "    plt.xticks([])\n",
        "    plt.yticks([])\n",
        "    plt.grid(False)\n",
        "    plt.imshow(check_list[i][0]/255.)\n",
        "    plt.xlabel(class_names[np.argmax(check_list[i][1])], fontsize=13)\n",
        "plt.tight_layout()\n",
        "plt.show()"
      ],
      "metadata": {
        "papermill": {
          "duration": 0.652219,
          "end_time": "2022-09-16T22:12:42.121665",
          "exception": false,
          "start_time": "2022-09-16T22:12:41.469446",
          "status": "completed"
        },
        "tags": [],
        "execution": {
          "iopub.status.busy": "2023-09-05T08:10:57.220138Z",
          "iopub.execute_input": "2023-09-05T08:10:57.220533Z",
          "iopub.status.idle": "2023-09-05T08:10:58.402511Z",
          "shell.execute_reply.started": "2023-09-05T08:10:57.220495Z",
          "shell.execute_reply": "2023-09-05T08:10:58.401267Z"
        },
        "trusted": true,
        "id": "ZvPzfmAmZtt8"
      },
      "execution_count": null,
      "outputs": []
    },
    {
      "cell_type": "markdown",
      "source": [
        "***Data Pipeline using`tf.data` & Prefetching***"
      ],
      "metadata": {
        "papermill": {
          "duration": 0.031418,
          "end_time": "2022-09-16T22:12:42.185303",
          "exception": false,
          "start_time": "2022-09-16T22:12:42.153885",
          "status": "completed"
        },
        "tags": [],
        "id": "-yw3CY-dZtt9"
      }
    },
    {
      "cell_type": "code",
      "source": [
        "rescale_data = tf.keras.Sequential([\n",
        "    layers.experimental.preprocessing.Rescaling(1/255.)\n",
        "])\n",
        "\n",
        "data_augmenation = tf.keras.Sequential([\n",
        "    layers.experimental.preprocessing.RandomFlip(mode = \"horizontal\"),\n",
        "    #layers.experimental.preprocessing.RandomRotation(0.1)\n",
        "])"
      ],
      "metadata": {
        "papermill": {
          "duration": 0.069621,
          "end_time": "2022-09-16T22:12:42.286537",
          "exception": false,
          "start_time": "2022-09-16T22:12:42.216916",
          "status": "completed"
        },
        "tags": [],
        "execution": {
          "iopub.status.busy": "2023-09-05T08:10:58.403906Z",
          "iopub.execute_input": "2023-09-05T08:10:58.404276Z",
          "iopub.status.idle": "2023-09-05T08:10:58.431494Z",
          "shell.execute_reply.started": "2023-09-05T08:10:58.404246Z",
          "shell.execute_reply": "2023-09-05T08:10:58.430187Z"
        },
        "trusted": true,
        "id": "RNY7Pm3MZtt9"
      },
      "execution_count": null,
      "outputs": []
    },
    {
      "cell_type": "code",
      "source": [
        "random_image_index = random.randint(0,len(train_im))\n",
        "img = rescale_data(train_im[random_image_index])\n",
        "img = data_augmenation(img)\n",
        "plt.imshow(img)"
      ],
      "metadata": {
        "papermill": {
          "duration": 0.342307,
          "end_time": "2022-09-16T22:12:42.660002",
          "exception": false,
          "start_time": "2022-09-16T22:12:42.317695",
          "status": "completed"
        },
        "tags": [],
        "execution": {
          "iopub.status.busy": "2023-09-05T08:10:58.432913Z",
          "iopub.execute_input": "2023-09-05T08:10:58.433291Z",
          "iopub.status.idle": "2023-09-05T08:10:59.154075Z",
          "shell.execute_reply.started": "2023-09-05T08:10:58.433261Z",
          "shell.execute_reply": "2023-09-05T08:10:59.152972Z"
        },
        "trusted": true,
        "id": "KRMQB4-kZtt-"
      },
      "execution_count": null,
      "outputs": []
    },
    {
      "cell_type": "code",
      "source": [
        "BATCH_SIZE = 128\n",
        "AUTOTUNE = tf.data.AUTOTUNE\n",
        "\n",
        "def prepare(ds, shuffle=False, augment = False, test = False):\n",
        "    if test:\n",
        "        ds = ds.map(lambda x: (rescale_data(x)), num_parallel_calls=AUTOTUNE)\n",
        "    else:\n",
        "        ds = ds.map(lambda x, y: (rescale_data(x), y), num_parallel_calls=AUTOTUNE)\n",
        "\n",
        "    if shuffle:\n",
        "        ds = ds.shuffle(1000)\n",
        "\n",
        "    #batch the data\n",
        "    ds = ds.batch(BATCH_SIZE)\n",
        "\n",
        "    # Use data augmentation only on the training set.\n",
        "    if augment:\n",
        "        ds = ds.map(lambda x, y: (data_augmenation(x, training=True), y),\n",
        "                num_parallel_calls=AUTOTUNE)\n",
        "\n",
        "    # Use buffered prefetching on all datasets.\n",
        "    return ds.prefetch(buffer_size=AUTOTUNE)"
      ],
      "metadata": {
        "papermill": {
          "duration": 0.047335,
          "end_time": "2022-09-16T22:12:42.753724",
          "exception": false,
          "start_time": "2022-09-16T22:12:42.706389",
          "status": "completed"
        },
        "tags": [],
        "execution": {
          "iopub.status.busy": "2023-09-05T08:10:59.156082Z",
          "iopub.execute_input": "2023-09-05T08:10:59.156893Z",
          "iopub.status.idle": "2023-09-05T08:10:59.166366Z",
          "shell.execute_reply.started": "2023-09-05T08:10:59.156853Z",
          "shell.execute_reply": "2023-09-05T08:10:59.165475Z"
        },
        "trusted": true,
        "id": "idryo9nqZtt-"
      },
      "execution_count": null,
      "outputs": []
    },
    {
      "cell_type": "code",
      "source": [
        "train_ds = prepare(training_data, shuffle = True, augment = True)\n",
        "val_ds = prepare(validation_data)\n",
        "test_ds = prepare(test_data, test=True)"
      ],
      "metadata": {
        "papermill": {
          "duration": 0.154513,
          "end_time": "2022-09-16T22:12:42.942154",
          "exception": false,
          "start_time": "2022-09-16T22:12:42.787641",
          "status": "completed"
        },
        "tags": [],
        "execution": {
          "iopub.status.busy": "2023-09-05T08:10:59.167506Z",
          "iopub.execute_input": "2023-09-05T08:10:59.168228Z",
          "iopub.status.idle": "2023-09-05T08:10:59.358491Z",
          "shell.execute_reply.started": "2023-09-05T08:10:59.168195Z",
          "shell.execute_reply": "2023-09-05T08:10:59.357202Z"
        },
        "trusted": true,
        "id": "WCrGidMKZtt_"
      },
      "execution_count": null,
      "outputs": []
    },
    {
      "cell_type": "markdown",
      "source": [
        "***CNN Model***\n",
        "* *The model consists of a convolutional layer, a max pooling layer, a flatten layer, and a dense (fully connected) layer with a softmax activation function*"
      ],
      "metadata": {
        "papermill": {
          "duration": 0.034785,
          "end_time": "2022-09-16T22:12:43.010401",
          "exception": false,
          "start_time": "2022-09-16T22:12:42.975616",
          "status": "completed"
        },
        "tags": [],
        "id": "6rAmV2AiZtt_"
      }
    },
    {
      "cell_type": "code",
      "source": [
        "model_1 = tf.keras.models.Sequential([\n",
        "    tf.keras.layers.Conv2D(filters=5,\n",
        "                          kernel_size = 3,\n",
        "                          activation = \"relu\",\n",
        "                          input_shape = (100,100,3)),\n",
        "    tf.keras.layers.MaxPool2D(pool_size =2,\n",
        "                             padding='valid'),\n",
        "    tf.keras.layers.Flatten(),\n",
        "    tf.keras.layers.Dense(len(class_names), activation=\"softmax\")\n",
        "])\n",
        "\n",
        "model_1.compile(loss=\"categorical_crossentropy\",\n",
        "               optimizer = tf.keras.optimizers.Adam(),\n",
        "               metrics = ['accuracy'])"
      ],
      "metadata": {
        "papermill": {
          "duration": 0.092862,
          "end_time": "2022-09-16T22:12:43.136476",
          "exception": false,
          "start_time": "2022-09-16T22:12:43.043614",
          "status": "completed"
        },
        "tags": [],
        "execution": {
          "iopub.status.busy": "2023-09-05T08:10:59.360396Z",
          "iopub.execute_input": "2023-09-05T08:10:59.360843Z",
          "iopub.status.idle": "2023-09-05T08:10:59.443259Z",
          "shell.execute_reply.started": "2023-09-05T08:10:59.360802Z",
          "shell.execute_reply": "2023-09-05T08:10:59.442041Z"
        },
        "trusted": true,
        "id": "3QqA77tdZtuB"
      },
      "execution_count": null,
      "outputs": []
    },
    {
      "cell_type": "code",
      "source": [
        "model_1.summary()"
      ],
      "metadata": {
        "papermill": {
          "duration": 0.042118,
          "end_time": "2022-09-16T22:12:43.210674",
          "exception": false,
          "start_time": "2022-09-16T22:12:43.168556",
          "status": "completed"
        },
        "tags": [],
        "execution": {
          "iopub.status.busy": "2023-09-05T08:10:59.444721Z",
          "iopub.execute_input": "2023-09-05T08:10:59.445104Z",
          "iopub.status.idle": "2023-09-05T08:10:59.467426Z",
          "shell.execute_reply.started": "2023-09-05T08:10:59.445074Z",
          "shell.execute_reply": "2023-09-05T08:10:59.466328Z"
        },
        "trusted": true,
        "id": "8O4xECezZtuO"
      },
      "execution_count": null,
      "outputs": []
    },
    {
      "cell_type": "markdown",
      "source": [
        "***Fitting The Model***"
      ],
      "metadata": {
        "id": "8bVrLsCJZtuP"
      }
    },
    {
      "cell_type": "code",
      "source": [
        "#Fit the model on training data\n",
        "history_1 = model_1.fit(train_ds,\n",
        "                       epochs =25,\n",
        "                       validation_data= val_ds)"
      ],
      "metadata": {
        "papermill": {
          "duration": 73.138945,
          "end_time": "2022-09-16T22:13:56.383876",
          "exception": false,
          "start_time": "2022-09-16T22:12:43.244931",
          "status": "completed"
        },
        "tags": [],
        "execution": {
          "iopub.status.busy": "2023-09-05T08:10:59.468901Z",
          "iopub.execute_input": "2023-09-05T08:10:59.469741Z"
        },
        "trusted": true,
        "id": "dPajcYReZtuP"
      },
      "execution_count": null,
      "outputs": []
    },
    {
      "cell_type": "markdown",
      "source": [
        "***Plotting Graph for loss & accuracy***"
      ],
      "metadata": {
        "id": "BkCryPNvZtuQ"
      }
    },
    {
      "cell_type": "code",
      "source": [
        "#loss and accuracy plot\n",
        "pd.DataFrame(history_1.history).plot()"
      ],
      "metadata": {
        "papermill": {
          "duration": 0.306299,
          "end_time": "2022-09-16T22:13:58.464669",
          "exception": false,
          "start_time": "2022-09-16T22:13:58.15837",
          "status": "completed"
        },
        "tags": [],
        "trusted": true,
        "id": "zEU3uT15ZtuQ"
      },
      "execution_count": null,
      "outputs": []
    },
    {
      "cell_type": "markdown",
      "source": [
        "***Saving The Model***"
      ],
      "metadata": {
        "id": "bckUhBKvZtuR"
      }
    },
    {
      "cell_type": "code",
      "source": [
        "model_1.save('model.h5')"
      ],
      "metadata": {
        "trusted": true,
        "id": "K1vl2uD4ZtuS"
      },
      "execution_count": null,
      "outputs": []
    },
    {
      "cell_type": "code",
      "source": [
        "loaded_model = tf.keras.models.load_model('/kaggle/working/model.h5')"
      ],
      "metadata": {
        "trusted": true,
        "id": "NjdwsvnJZtuT"
      },
      "execution_count": null,
      "outputs": []
    },
    {
      "cell_type": "code",
      "source": [
        "def preprocess_images(path):\n",
        "    img = image.load_img(path, target_size=(224, 224))\n",
        "\n",
        "    img_array = image.img_to_array(img)\n",
        "\n",
        "    img_array = np.expand_dims(img_array, axis=0)\n",
        "\n",
        "    img_preprocessed = img_array / 255.0\n",
        "\n",
        "    return img_preprocessed"
      ],
      "metadata": {
        "trusted": true,
        "id": "gqKBXYyNZtuU"
      },
      "execution_count": null,
      "outputs": []
    },
    {
      "cell_type": "code",
      "source": [],
      "metadata": {
        "id": "GOCyLDI8ZtuU"
      },
      "execution_count": null,
      "outputs": []
    }
  ]
}